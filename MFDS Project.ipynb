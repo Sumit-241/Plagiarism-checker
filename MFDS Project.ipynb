{
 "cells": [
  {
   "cell_type": "code",
   "execution_count": 4,
   "id": "c5eecaf4",
   "metadata": {},
   "outputs": [],
   "source": [
    "import nltk"
   ]
  },
  {
   "cell_type": "code",
   "execution_count": 5,
   "id": "b25e3c43",
   "metadata": {},
   "outputs": [],
   "source": [
    "from nltk.corpus import stopwords\n",
    "from nltk.tokenize import word_tokenize"
   ]
  },
  {
   "cell_type": "code",
   "execution_count": 6,
   "id": "9467a07d",
   "metadata": {},
   "outputs": [],
   "source": [
    "def pre_remove(a):\n",
    "    from nltk.corpus import stopwords\n",
    "    from nltk.tokenize import word_tokenize\n",
    "    stopwords=set(stopwords.words(\"english\"))\n",
    "    word_token=word_tokenize(a)\n",
    "    filtered=[w for w in word_token if w not in stopwords]\n",
    "    r=''\n",
    "    for i in filtered:\n",
    "        r=r+i+' '\n",
    "    return(r)\n",
    "    "
   ]
  },
  {
   "cell_type": "code",
   "execution_count": 7,
   "id": "cde2af91",
   "metadata": {},
   "outputs": [],
   "source": [
    "def base_word(a):\n",
    "    from nltk.stem import PorterStemmer\n",
    "    from nltk.tokenize import sent_tokenize,word_tokenize\n",
    "    ps = PorterStemmer()\n",
    "    words=word_tokenize(a)\n",
    "    filtered=[ps.stem(w) for w in words]\n",
    "    r=''\n",
    "    for i in filtered:\n",
    "        r=r+i+' '\n",
    "    return(r)\n",
    "    "
   ]
  },
  {
   "cell_type": "code",
   "execution_count": 8,
   "id": "4f77e7df",
   "metadata": {},
   "outputs": [
    {
     "data": {
      "text/plain": [
       "'ravi is do homework '"
      ]
     },
     "execution_count": 8,
     "metadata": {},
     "output_type": "execute_result"
    }
   ],
   "source": [
    "base_word(\"Ravi is doing Homework\")"
   ]
  },
  {
   "cell_type": "code",
   "execution_count": 9,
   "id": "ff431e9e",
   "metadata": {},
   "outputs": [],
   "source": [
    "def lemmatize(a):\n",
    "    from nltk.stem import WordNetLemmatizer\n",
    "    from nltk.tokenize import word_tokenize\n",
    "    words=word_tokenize(a)\n",
    "    lemmatizer =WordNetLemmatizer()\n",
    "    filtered=[lemmatizer.lemmatize(w) for w in words]\n",
    "    return(filtered)\n",
    "    "
   ]
  },
  {
   "cell_type": "code",
   "execution_count": 10,
   "id": "2d030b2e",
   "metadata": {},
   "outputs": [
    {
     "data": {
      "text/plain": [
       "['foot', 'cactus', 'goose', 'Ravi', 'do']"
      ]
     },
     "execution_count": 10,
     "metadata": {},
     "output_type": "execute_result"
    }
   ],
   "source": [
    "lemmatize(\"feet cacti geese Ravi do\")"
   ]
  },
  {
   "cell_type": "code",
   "execution_count": 11,
   "id": "2e9b9beb",
   "metadata": {},
   "outputs": [],
   "source": [
    "def NER(a):\n",
    "    import nltk\n",
    "    tokenized_words=nltk.word_tokenize(a)\n",
    "    tagged=nltk.pos_tag(tokenized_words)\n",
    "    chunked=nltk.ne_chunk(tagged)\n",
    "    named=[]\n",
    "    for w in chunked:\n",
    "        if hasattr(w,\"label\"):\n",
    "            named.append(\" \".join(c[0] for c in w.leaves()))\n",
    "    return(named)"
   ]
  },
  {
   "cell_type": "code",
   "execution_count": null,
   "id": "3373b736",
   "metadata": {},
   "outputs": [],
   "source": []
  },
  {
   "cell_type": "code",
   "execution_count": 12,
   "id": "597fb682",
   "metadata": {},
   "outputs": [],
   "source": [
    "def main(a):\n",
    "    s=[]\n",
    "    r=''\n",
    "    for i in a:\n",
    "        if i !=\".\":\n",
    "            r=r+i\n",
    "        else:\n",
    "            s.append(r)\n",
    "            r=\"\"\n",
    "    result=[]\n",
    "    for i in s:\n",
    "        result.append(lemmatize(base_word(pre_remove(i))))\n",
    "    return(result)\n",
    "        "
   ]
  },
  {
   "cell_type": "code",
   "execution_count": 13,
   "id": "0e013c61",
   "metadata": {},
   "outputs": [
    {
     "data": {
      "text/plain": [
       "[['ravi', 'good', 'boy'], ['chandu', 'bad', 'boy']]"
      ]
     },
     "execution_count": 13,
     "metadata": {},
     "output_type": "execute_result"
    }
   ],
   "source": [
    "main(\"Ravi is a good boy.chandu is a bad boy.\")"
   ]
  },
  {
   "cell_type": "code",
   "execution_count": 58,
   "id": "faebca2e",
   "metadata": {},
   "outputs": [],
   "source": [
    "def final(a,b):\n",
    "    from nltk.corpus import wordnet\n",
    "    from itertools import chain\n",
    "    original=main(a)\n",
    "    answer=main(b)\n",
    "    t=[]\n",
    "    for i in answer:\n",
    "        r=[]\n",
    "        for j in original:\n",
    "            s=0\n",
    "            for w in i:\n",
    "                synonyms = wordnet.synsets(w)\n",
    "                lemmas =[w for w in set(chain.from_iterable([word.lemma_names() for word in synonyms]))]\n",
    "                if helper(w,j):\n",
    "                    s=s+1\n",
    "            r.append(s/len(j))\n",
    "        t.append(max(r))\n",
    "    m=0\n",
    "    for i in NER(b):\n",
    "        if i in NER(a):\n",
    "            m=m+1\n",
    "    f1=m/len(NER(a))*100\n",
    "    f2=(sum(t)/len(t))*100\n",
    "        \n",
    "    return(f1*(0.90)+f2*(0.10))\n",
    "                    \n",
    "                    \n",
    "            "
   ]
  },
  {
   "cell_type": "code",
   "execution_count": 61,
   "id": "80592442",
   "metadata": {},
   "outputs": [
    {
     "data": {
      "text/plain": [
       "90.0"
      ]
     },
     "execution_count": 61,
     "metadata": {},
     "output_type": "execute_result"
    }
   ],
   "source": [
    "final(\"Ravi is doing a job in Google.\",\"Ravi is working in Google.\")"
   ]
  },
  {
   "cell_type": "code",
   "execution_count": 62,
   "id": "fe378aa1",
   "metadata": {},
   "outputs": [],
   "source": [
    "from nltk.corpus import wordnet\n",
    "from itertools import chain\n",
    "synonyms = wordnet.synsets(\"doing\")\n",
    "lemmas = [w for w in set(chain.from_iterable([word.lemma_names() for word in synonyms]))]"
   ]
  },
  {
   "cell_type": "code",
   "execution_count": 63,
   "id": "25d5f9ab",
   "metadata": {},
   "outputs": [
    {
     "data": {
      "text/plain": [
       "['dress',\n",
       " 'coiffure',\n",
       " 'act',\n",
       " 'coiffe',\n",
       " 'manage',\n",
       " 'behave',\n",
       " 'exercise',\n",
       " 'suffice',\n",
       " 'practice',\n",
       " 'coif',\n",
       " 'do',\n",
       " 'make_out',\n",
       " 'practise',\n",
       " 'serve',\n",
       " 'execute',\n",
       " 'set',\n",
       " 'arrange',\n",
       " 'come',\n",
       " 'make',\n",
       " 'cause',\n",
       " 'answer',\n",
       " 'perform',\n",
       " 'fare',\n",
       " 'get_along']"
      ]
     },
     "execution_count": 63,
     "metadata": {},
     "output_type": "execute_result"
    }
   ],
   "source": [
    "lemmas"
   ]
  },
  {
   "cell_type": "code",
   "execution_count": 18,
   "id": "43474b95",
   "metadata": {},
   "outputs": [],
   "source": [
    "if [1,2,3,4] in [1,2]:\n",
    "    print(8)"
   ]
  },
  {
   "cell_type": "code",
   "execution_count": 19,
   "id": "b5476492",
   "metadata": {},
   "outputs": [],
   "source": [
    "def helper(l1,l2):\n",
    "    for i in l1:\n",
    "        if i in l2:\n",
    "            return(True)\n",
    "    return(False)"
   ]
  },
  {
   "cell_type": "code",
   "execution_count": 64,
   "id": "083bdd55",
   "metadata": {},
   "outputs": [
    {
     "data": {
      "text/plain": [
       "False"
      ]
     },
     "execution_count": 64,
     "metadata": {},
     "output_type": "execute_result"
    }
   ],
   "source": [
    "helper([],[1,2,3])"
   ]
  },
  {
   "cell_type": "code",
   "execution_count": 70,
   "id": "b3bacf22",
   "metadata": {},
   "outputs": [],
   "source": [
    "a=\"NEW DELHI: Telecom and IT minister Ashwini Vaishnaw on Thursday visited the 5G test-bed at IIT Madras and successfully tested a 5G call on an indigenously-developed network. The test-bed had been inaugurated by Prime Minister Narendra Modi on Tuesday. “This is the first step towards making the solution feasible commercially. Over the next few months, Made-in-India solution has the potential of going from local to global. It also meets India’s needs indigenously and securely,” the minister said.At a time when concerns around cyber security are at their peak, India has been developing its local 5G network solution that it promises will be more efficient in cost as well as productivity.Vaishnaw has said that the government will be deploying the solution, once its ready for commercialisation, on the network of state-owned BSNL, and thereafter it will also be pitched to other private operators. “We are confident that a more efficient solution which is also cost-effective will appeal to companies not only in India, but even those who are abroad. We feel that the India-made 5G stack will have a huge export potential.” For BSNL, the 4G and 5G stack is being developed by a consortium that has C-Dot working on the core, while the Tata group comes in with TCS and Tejas. The government will deploy this solution for BSNL’s upgradation to 4G and thereafter to 5G.\" "
   ]
  },
  {
   "cell_type": "code",
   "execution_count": 68,
   "id": "359cd169",
   "metadata": {},
   "outputs": [],
   "source": [
    "b=\"India has shown interest in Hyperloop tech since 2017, by then Railway Minister Suresh Prabhu. In fact, the ministry also held talks with US-based Hyperloop One, but nothing quite materialised.  IIT Madras’s  Avishkar Hyperloop which was formed in 2017 had been working on scalability and frugal engineering concepts for the development of a Hyperloop based transportation system for India. The group was one of the top ten finalists at the SpaceX Hyperloop Pod competition of 2019 and was the only Asian team to do so. They also were awarded the ‘Most Scalable Design Award’ at the European Hyperloop Week in 2021. \""
   ]
  },
  {
   "cell_type": "code",
   "execution_count": 69,
   "id": "3fe346cb",
   "metadata": {},
   "outputs": [
    {
     "data": {
      "text/plain": [
       "30.30628803245436"
      ]
     },
     "execution_count": 69,
     "metadata": {},
     "output_type": "execute_result"
    }
   ],
   "source": [
    "final(a,b)"
   ]
  },
  {
   "cell_type": "code",
   "execution_count": null,
   "id": "68334a7f",
   "metadata": {},
   "outputs": [],
   "source": [
    "CHENNAI: Avishkar Hyperloop, a student team from the IIT-M,  ..\n",
    "\n"
   ]
  }
 ],
 "metadata": {
  "kernelspec": {
   "display_name": "Python 3 (ipykernel)",
   "language": "python",
   "name": "python3"
  },
  "language_info": {
   "codemirror_mode": {
    "name": "ipython",
    "version": 3
   },
   "file_extension": ".py",
   "mimetype": "text/x-python",
   "name": "python",
   "nbconvert_exporter": "python",
   "pygments_lexer": "ipython3",
   "version": "3.9.7"
  }
 },
 "nbformat": 4,
 "nbformat_minor": 5
}
